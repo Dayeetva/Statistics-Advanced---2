{
  "nbformat": 4,
  "nbformat_minor": 0,
  "metadata": {
    "colab": {
      "provenance": []
    },
    "kernelspec": {
      "name": "python3",
      "display_name": "Python 3"
    },
    "language_info": {
      "name": "python"
    }
  },
  "cells": [
    {
      "cell_type": "code",
      "execution_count": null,
      "metadata": {
        "id": "-jytHgAXcdHQ"
      },
      "outputs": [],
      "source": [
        "#           Statistics Advanced - 2| Assignment"
      ]
    },
    {
      "cell_type": "code",
      "source": [
        "# Question Answers :-"
      ],
      "metadata": {
        "id": "Lw2JWb1bcd75"
      },
      "execution_count": null,
      "outputs": []
    },
    {
      "cell_type": "code",
      "source": [
        "#Q1) What is hypothesis testing in statistics?\n",
        "'''\n",
        "Answers: Hypothesis testing is a statistical method used to make decisions or inferences about a population based on a sample.\n",
        " It involves formulating two competing hypotheses (null and alternative), then using sample data to determine whether there is enough evidence to reject the null hypothesis.\n",
        "\n",
        "'''"
      ],
      "metadata": {
        "id": "cdTETarKceAV"
      },
      "execution_count": null,
      "outputs": []
    },
    {
      "cell_type": "code",
      "source": [
        "#Q2) What is the null hypothesis, and how does it differ from the alternative hypothesis?\n",
        "\n",
        "'''\n",
        "Answer: Null hypothesis (H₀): A statement that there is no effect or no difference. It represents the status quo or default assumption.\n",
        "\n",
        "        Alternative hypothesis (H₁): A statement that contradicts the null hypothesis. It indicates the presence of an effect or difference.\n",
        "\n",
        "'''"
      ],
      "metadata": {
        "id": "BT81_l_lceDW"
      },
      "execution_count": null,
      "outputs": []
    },
    {
      "cell_type": "code",
      "source": [
        "#Q3) Explain the significance level in hypothesis testing and its role in deciding the outcome of a test.\n",
        "\n",
        "'''\n",
        "Answer: The significance level (α) is the probability of rejecting the null hypothesis when it is true (Type I error).\n",
        "It is a threshold set by the researcher (commonly 0.05 or 5%) to decide whether the test results are statistically significant. If the p-value < α, we reject H₀.\n",
        "\n",
        "'''"
      ],
      "metadata": {
        "id": "G1UaCiLPceEO"
      },
      "execution_count": null,
      "outputs": []
    },
    {
      "cell_type": "code",
      "source": [
        "#Q4) What are Type I and Type II errors? Give examples of each.\n",
        "\n",
        "'''\n",
        "Answer:\n",
        "Type I Error: Rejecting a true null hypothesis. (False positive)\n",
        "Example: Concluding a new drug works when it actually does not.\n",
        "\n",
        "Type II Error: Failing to reject a false null hypothesis. (False negative)\n",
        "Example: Concluding a new drug doesn’t work when it actually does.\n",
        "\n",
        "'''"
      ],
      "metadata": {
        "id": "AozvrkiWceFl"
      },
      "execution_count": null,
      "outputs": []
    },
    {
      "cell_type": "code",
      "source": [
        "#Q5) Difference between a Z-test and a T-test. Explain when to use each.\n",
        "'''\n",
        "Answer:\n",
        "Population Standard Deviation\n",
        "Z-test is used when the population standard deviation is known.\n",
        "T-test is used when the population standard deviation is unknown.\n",
        "\n",
        "Sample Size\n",
        "Z-test is appropriate for large samples (n > 30).\n",
        "T-test is appropriate for small samples (n ≤ 30).\n",
        "\n",
        "Distribution Used\n",
        "Z-test relies on the normal distribution.\n",
        "T-test relies on the t-distribution, which accounts for extra uncertainty in small samples.\n",
        "\n",
        "Variability\n",
        "Z-test assumes less variability because the population parameters are known.\n",
        "T-test accounts for more variability because the population parameters are estimated from the sample.\n",
        "\n",
        "When to Use\n",
        "Use a Z-test when you have a large sample size or know the population variance/standard deviation.\n",
        "Use a T-test when you have a small sample size or do not know the population variance/standard deviation.\n",
        "\n",
        "'''"
      ],
      "metadata": {
        "id": "PgNY9c4aceH0"
      },
      "execution_count": null,
      "outputs": []
    },
    {
      "cell_type": "code",
      "source": [
        "#Q6) Python program to generate a binomial distribution with n=10 and p=0.5, then plot its histogram.\n",
        "\n",
        "import numpy as np\n",
        "import matplotlib.pyplot as plt\n",
        "\n",
        "# Parameters\n",
        "n = 10\n",
        "p = 0.5\n",
        "size = 1000  # number of experiments\n",
        "\n",
        "# Generate binomial distribution\n",
        "data = np.random.binomial(n, p, size)\n",
        "\n",
        "# Plot histogram\n",
        "plt.hist(data, bins=np.arange(n+2)-0.5, edgecolor='black')\n",
        "plt.title('Binomial Distribution (n=10, p=0.5)')\n",
        "plt.xlabel('Number of Successes')\n",
        "plt.ylabel('Frequency')\n",
        "plt.show()\n"
      ],
      "metadata": {
        "colab": {
          "base_uri": "https://localhost:8080/",
          "height": 472
        },
        "id": "SVgHiYYmceNI",
        "outputId": "e96b7b56-b817-465f-bc46-3b8dd1152820"
      },
      "execution_count": 1,
      "outputs": [
        {
          "output_type": "display_data",
          "data": {
            "text/plain": [
              "<Figure size 640x480 with 1 Axes>"
            ],
            "image/png": "[encoded data removed]"
          },
          "metadata": {}
        }
      ]
    },
    {
      "cell_type": "code",
      "source": [
        "#Q7) Implement hypothesis testing using Z-statistics for a sample dataset in Python.\n",
        "\n",
        "import numpy as np\n",
        "from scipy.stats import norm\n",
        "\n",
        "# Sample data\n",
        "sample_data = [49.1, 50.2, 51.0, 48.7, 50.5, 49.8, 50.3, 50.7, 50.2, 49.6,\n",
        "               50.1, 49.9, 50.8, 50.4, 48.9, 50.6, 50.0, 49.7, 50.2, 49.5,\n",
        "               50.1, 50.3, 50.4, 50.5, 50.0, 50.7, 49.3, 49.8, 50.2, 50.9,\n",
        "               50.3, 50.4, 50.0, 49.7, 50.5, 49.9]\n",
        "\n",
        "# Hypothesis: mean = 50\n",
        "mu_0 = 50  # hypothesized mean\n",
        "sample_mean = np.mean(sample_data)\n",
        "sample_std = np.std(sample_data, ddof=1)\n",
        "n = len(sample_data)\n",
        "\n",
        "# Z-statistic\n",
        "z = (sample_mean - mu_0) / (sample_std / np.sqrt(n))\n",
        "\n",
        "# p-value for two-tailed test\n",
        "p_value = 2 * (1 - norm.cdf(abs(z)))\n",
        "\n",
        "print(\"Sample Mean:\", sample_mean)\n",
        "print(\"Z-statistic:\", z)\n",
        "print(\"p-value:\", p_value)\n",
        "\n",
        "if p_value < 0.05:\n",
        "    print(\"Reject the null hypothesis.\")\n",
        "else:\n",
        "    print(\"Fail to reject the null hypothesis.\")\n"
      ],
      "metadata": {
        "colab": {
          "base_uri": "https://localhost:8080/"
        },
        "id": "DxuRax2lceSm",
        "outputId": "50a6ebd5-56ad-47c8-db99-3499c1da9c7d"
      },
      "execution_count": 2,
      "outputs": [
        {
          "output_type": "stream",
          "name": "stdout",
          "text": [
            "Sample Mean: 50.08888888888889\n",
            "Z-statistic: 0.9940271559503017\n",
            "p-value: 0.3202096468890012\n",
            "Fail to reject the null hypothesis.\n"
          ]
        }
      ]
    },
    {
      "cell_type": "code",
      "source": [
        "#Q8) Simulate data from a normal distribution and calculate the 95% confidence interval for its mean. Plot the data.\n",
        "\n",
        "import numpy as np\n",
        "import matplotlib.pyplot as plt\n",
        "from scipy import stats\n",
        "\n",
        "# Simulate normal data\n",
        "data = np.random.normal(loc=50, scale=5, size=100)\n",
        "\n",
        "# Calculate 95% confidence interval\n",
        "mean = np.mean(data)\n",
        "sem = stats.sem(data)\n",
        "conf_int = stats.t.interval(0.95, len(data)-1, loc=mean, scale=sem)\n",
        "\n",
        "print(\"Mean:\", mean)\n",
        "print(\"95% Confidence Interval:\", conf_int)\n",
        "\n",
        "# Plot\n",
        "plt.hist(data, bins=20, edgecolor='black')\n",
        "plt.title('Normal Distribution Data')\n",
        "plt.xlabel('Value')\n",
        "plt.ylabel('Frequency')\n",
        "plt.show()\n"
      ],
      "metadata": {
        "colab": {
          "base_uri": "https://localhost:8080/",
          "height": 507
        },
        "id": "hE9YxBsmceUT",
        "outputId": "879351be-5236-48a1-f8e6-4d0b8951465b"
      },
      "execution_count": 4,
      "outputs": [
        {
          "output_type": "stream",
          "name": "stdout",
          "text": [
            "Mean: 50.659908384509045\n",
            "95% Confidence Interval: (np.float64(49.721349661717056), np.float64(51.59846710730103))\n"
          ]
        },
        {
          "output_type": "display_data",
          "data": {
            "text/plain": [
              "<Figure size 640x480 with 1 Axes>"
            ],
            "image/png": "[encoded data removed]"
          },
          "metadata": {}
        }
      ]
    },
    {
      "cell_type": "code",
      "source": [
        "#Q9) Calculate Z-scores from a dataset and visualize standardized data. Explain what Z-scores represent.\n",
        "\n",
        "import numpy as np\n",
        "import matplotlib.pyplot as plt\n",
        "from scipy.stats import zscore\n",
        "\n",
        "# Example dataset\n",
        "data = np.random.normal(100, 15, 100)\n",
        "\n",
        "# Calculate Z-scores\n",
        "z_scores = zscore(data)\n",
        "\n",
        "print(\"Z-scores:\", z_scores)\n",
        "\n",
        "# Plot histogram of Z-scores\n",
        "plt.hist(z_scores, bins=20, edgecolor='black')\n",
        "plt.title('Z-scores Histogram')\n",
        "plt.xlabel('Z-score')\n",
        "plt.ylabel('Frequency')\n",
        "plt.show()\n"
      ],
      "metadata": {
        "colab": {
          "base_uri": "https://localhost:8080/",
          "height": 767
        },
        "id": "bAS7hTs-ceWe",
        "outputId": "9d0c0b76-cfab-4a4b-838d-c6642102a342"
      },
      "execution_count": 5,
      "outputs": [
        {
          "output_type": "stream",
          "name": "stdout",
          "text": [
            "Z-scores: [ 0.55473892 -0.58495674  1.7813588  -0.73722577 -0.46609729 -0.03821355\n",
            " -1.82173045  0.01018783  0.85989831 -0.13619013 -0.1098364   1.97819809\n",
            " -1.31954524 -0.86857751  0.30639279 -0.49992321 -1.14823279 -1.71426894\n",
            "  0.8160721   2.39763288 -0.54865557  1.0909493   0.50760006 -1.82547129\n",
            " -0.42531935  0.46902434 -1.43764944 -0.32196496  0.16499034  0.54708088\n",
            "  2.13130365  0.2516638  -0.25680663 -0.01012832  0.23843285 -1.49585858\n",
            "  0.28096783  1.0055052  -0.26233234  0.34529721 -0.13560615  1.58163024\n",
            " -2.2318107  -0.26724391  0.36444311 -2.15355855  2.0620032  -0.30860204\n",
            "  0.14036662  0.57953048 -0.64733651 -1.00605787 -0.22212508 -0.59135435\n",
            "  0.34644819 -1.67373302  0.53947136  0.5867773  -1.57484159  0.20509925\n",
            " -0.12084809  0.81737338  0.43077611  0.9370023   0.47871857 -0.5877563\n",
            " -0.0814981  -1.66590821 -0.01776751 -0.1692931   0.04982574  0.72825535\n",
            "  1.30181949  0.45382213 -0.25655695 -0.03246032  1.36336735 -0.59082272\n",
            " -1.2536219   0.73602666  1.34597383 -2.54816704  1.08597171 -0.69046593\n",
            " -0.01442393  0.28400277  0.20754864  0.6312222   0.75866987  0.49551994\n",
            " -0.88428272  1.84695463  0.09033315 -1.77358073 -0.41026522  1.10859744\n",
            "  0.83164288 -0.14151558 -0.08813277  0.04213231]\n"
          ]
        },
        {
          "output_type": "display_data",
          "data": {
            "text/plain": [
              "<Figure size 640x480 with 1 Axes>"
            ],
            "image/png": "[encoded data removed]"
          },
          "metadata": {}
        }
      ]
    },
    {
      "cell_type": "code",
      "source": [],
      "metadata": {
        "id": "KMe-ejNaceen"
      },
      "execution_count": null,
      "outputs": []
    }
  ]
}